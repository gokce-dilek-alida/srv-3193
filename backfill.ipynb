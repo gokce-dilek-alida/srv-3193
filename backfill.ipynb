{
 "cells": [
  {
   "cell_type": "code",
   "execution_count": 1,
   "metadata": {},
   "outputs": [],
   "source": [
    "\n",
    "import csv\n",
    "import random\n",
    "import json\n",
    "\n",
    "for pod in ['ap2', 'eu1', 'eu2', 'na1', 'na2']:\n",
    "    id_to_version = {} # map each study/object id to respondingUiVersion\n",
    "    nopatch_ids = set() # used to check for duplicate records in the nopatch results\n",
    "    patch_ids = set() # used to check for duplicate records in the patch results\n",
    "    with open(\"{}_2.csv\".format(pod)) as nopatch, open(\"{}_1.csv\".format(pod)) as patch:\n",
    "        nopatch_reader = csv.reader(line.replace('\\0', '')\n",
    "                                    for line in nopatch)  # remove null bytes\n",
    "\n",
    "        patch_reader = csv.reader(line.replace('\\0', '')\n",
    "                                  for line in patch)  # remove null bytes\n",
    "\n",
    "        # generate id_to_version: start with nopatch. map v0 and v1 to v1, and map to v2 to v2.\n",
    "        for i, line in enumerate(nopatch_reader):\n",
    "            if i == 0:\n",
    "                continue\n",
    "            if line[1] in nopatch_ids:\n",
    "                # skip duplicate nopatch: there won't be any\n",
    "                continue\n",
    "            else:\n",
    "                version = line[3] if line[3] == '2' else (\n",
    "                    '1' if line[3] == '1' or line[3] == '0' else '-1')\n",
    "                id_to_version[line[1]] = version\n",
    "                nopatch_ids.add(line[1])\n",
    "\n",
    "        # generate id_to_version: continue with patch. map v0 and v1 to v1, and map to v2 to v2.\n",
    "        for i, line in enumerate(patch_reader):\n",
    "            if i == 0:\n",
    "                continue\n",
    "            if line[1] in patch_ids:\n",
    "                # skip duplicate patch: the first one is the MOST RECENT one\n",
    "                continue\n",
    "            else:\n",
    "                version = line[3] if line[3] == '2' else (\n",
    "                    '1' if line[3] == '1' or line[3] == '0' else '-1')\n",
    "                id_to_version[line[1]] = version\n",
    "                patch_ids.add(line[1])\n",
    "\n",
    "    # for i in range(0, 10):\n",
    "    #     random_key = random.choice(list(id_to_version.keys()))\n",
    "    #     print('entry: ')\n",
    "    #     print(random_key, id_to_version[random_key])\n",
    "\n",
    "    # id_to_version map is now complete, write queries to file\n",
    "    with open(\"{}_idtoversion_queries.sql\".format(pod), 'w') as queryfile:\n",
    "        for key, value in id_to_version.items():\n",
    "            queryfile.write(\n",
    "                \"update cpm.dbo.Activities SET RespondingUiVersion={} where ExternalActivityId='{}';\".format(value, key))\n",
    "            queryfile.write('\\n')\n"
   ]
  }
 ],
 "metadata": {
  "kernelspec": {
   "display_name": "Python 3.10.8 64-bit",
   "language": "python",
   "name": "python3"
  },
  "language_info": {
   "codemirror_mode": {
    "name": "ipython",
    "version": 3
   },
   "file_extension": ".py",
   "mimetype": "text/x-python",
   "name": "python",
   "nbconvert_exporter": "python",
   "pygments_lexer": "ipython3",
   "version": "3.10.8"
  },
  "orig_nbformat": 4,
  "vscode": {
   "interpreter": {
    "hash": "07441975f9429fbf9949daae7eae2dcc551e1f24fb644471e1cd5ee23d08591a"
   }
  }
 },
 "nbformat": 4,
 "nbformat_minor": 2
}
